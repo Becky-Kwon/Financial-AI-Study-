{
 "cells": [
  {
   "cell_type": "markdown",
   "metadata": {},
   "source": [
    "# 6.5 심리투자 법칙\n",
    "\n",
    "이론은 ppt에 ~"
   ]
  },
  {
   "cell_type": "markdown",
   "metadata": {},
   "source": [
    "# 6.6 삼중창 매매 시스템\n",
    "\n",
    "## 6.6.1 첫 번째창 - 시장 조류"
   ]
  },
  {
   "cell_type": "code",
   "execution_count": 6,
   "metadata": {},
   "outputs": [
    {
     "name": "stdout",
     "output_type": "stream",
     "text": [
      "Collecting PyMySQL\n",
      "  Downloading PyMySQL-1.0.2-py3-none-any.whl (43 kB)\n",
      "Installing collected packages: PyMySQL\n",
      "Successfully installed PyMySQL-1.0.2\n"
     ]
    }
   ],
   "source": [
    "!pip install PyMySQL"
   ]
  },
  {
   "cell_type": "code",
   "execution_count": 7,
   "metadata": {},
   "outputs": [],
   "source": [
    "import pandas as pd\n",
    "#from bs4 import BeautifulSoup\n",
    "#import urllib\n",
    "#from urllib.request import urlopen\n",
    "import pymysql\n",
    "#import time\n",
    "#import pandas.io.sql as sql\n",
    "from datetime import datetime\n",
    "#from threading import Timer\n",
    "#import matplotlib.pyplot as plt\n",
    "\n",
    "class MarketDB:\n",
    "    def __init__(self):\n",
    "        \"\"\"생성자: MariaDB 연결 및 종목코드 딕셔너리 생성\"\"\"\n",
    "        self.conn = pymysql.connect(host='localhost', user='root', password='myPa$$word', db='INVESTAR', charset='utf8')\n",
    "        self.codes = dict()\n",
    "        self.getCompanyInfo()\n",
    "        \n",
    "    def __del__(self):\n",
    "        \"\"\"소멸자: MariaDB 연결 해제\"\"\"\n",
    "        self.conn.close()\n",
    "\n",
    "    def getCompanyInfo(self):\n",
    "        \"\"\"company_info 테이블에서 읽어와서 companyData와 codes에 저장\"\"\"\n",
    "        sql = \"SELECT * FROM company_info\"\n",
    "        companyInfo = pd.read_sql(sql, self.conn)\n",
    "        for idx in range(len(companyInfo)):\n",
    "            self.codes[companyInfo['code'].values[idx]] = companyInfo['company'].values[idx]\n",
    "\n",
    "    def getDailyPrice(self, code, startDate, endDate):\n",
    "        \"\"\"daily_price 테이블에서 읽어와서 데이터프레임으로 반환\"\"\"\n",
    "        sql = \"SELECT * FROM daily_price WHERE code = '{}' and date >= '{}' and date <= '{}'\".format(code, startDate, endDate)\n",
    "        df = pd.read_sql(sql, self.conn)\n",
    "        df.index = df['date']\n",
    "        return df"
   ]
  },
  {
   "cell_type": "code",
   "execution_count": 16,
   "metadata": {},
   "outputs": [],
   "source": [
    "import pandas as pd\n",
    "import pymysql\n",
    "from datetime import datetime\n",
    "from datetime import timedelta\n",
    "import re\n",
    "\n",
    "class Analyzer:\n",
    "    def __init__(self):\n",
    "        \"\"\"생성자: MariaDB 연결 및 종목코드 딕셔너리 생성\"\"\"\n",
    "        self.conn = pymysql.connect(host='localhost', user='root', \n",
    "            password='myPa$$word', db='INVESTAR', charset='utf8')\n",
    "        self.codes = {}\n",
    "        self.get_comp_info()\n",
    "        \n",
    "    def __del__(self):\n",
    "        \"\"\"소멸자: MariaDB 연결 해제\"\"\"\n",
    "        self.conn.close()\n",
    "\n",
    "    def get_comp_info(self):\n",
    "        \"\"\"company_info 테이블에서 읽어와서 codes에 저장\"\"\"\n",
    "        sql = \"SELECT * FROM company_info\"\n",
    "        krx = pd.read_sql(sql, self.conn)\n",
    "        for idx in range(len(krx)):\n",
    "            self.codes[krx['code'].values[idx]] = krx['company'].values[idx]\n",
    "\n",
    "    def get_daily_price(self, code, start_date=None, end_date=None):\n",
    "        \"\"\"KRX 종목의 일별 시세를 데이터프레임 형태로 반환\n",
    "            - code       : KRX 종목코드('005930') 또는 상장기업명('삼성전자')\n",
    "            - start_date : 조회 시작일('2020-01-01'), 미입력 시 1년 전 오늘\n",
    "            - end_date   : 조회 종료일('2020-12-31'), 미입력 시 오늘 날짜\n",
    "        \"\"\"\n",
    "        if start_date is None:\n",
    "            one_year_ago = datetime.today() - timedelta(days=365)\n",
    "            start_date = one_year_ago.strftime('%Y-%m-%d')\n",
    "            print(\"start_date is initialized to '{}'\".format(start_date))\n",
    "        else:\n",
    "            start_lst = re.split('\\D+', start_date)\n",
    "            if start_lst[0] == '':\n",
    "                start_lst = start_lst[1:]\n",
    "            start_year = int(start_lst[0])\n",
    "            start_month = int(start_lst[1])\n",
    "            start_day = int(start_lst[2])\n",
    "            if start_year < 1900 or start_year > 2200:\n",
    "                print(f\"ValueError: start_year({start_year:d}) is wrong.\")\n",
    "                return\n",
    "            if start_month < 1 or start_month > 12:\n",
    "                print(f\"ValueError: start_month({start_month:d}) is wrong.\")\n",
    "                return\n",
    "            if start_day < 1 or start_day > 31:\n",
    "                print(f\"ValueError: start_day({start_day:d}) is wrong.\")\n",
    "                return\n",
    "            start_date=f\"{start_year:04d}-{start_month:02d}-{start_day:02d}\"\n",
    "\n",
    "        if end_date is None:\n",
    "            end_date = datetime.today().strftime('%Y-%m-%d')\n",
    "            print(\"end_date is initialized to '{}'\".format(end_date))\n",
    "        else:\n",
    "            end_lst = re.split('\\D+', end_date)\n",
    "            if end_lst[0] == '':\n",
    "                end_lst = end_lst[1:] \n",
    "            end_year = int(end_lst[0])\n",
    "            end_month = int(end_lst[1])\n",
    "            end_day = int(end_lst[2])\n",
    "            if end_year < 1800 or end_year > 2200:\n",
    "                print(f\"ValueError: end_year({end_year:d}) is wrong.\")\n",
    "                return\n",
    "            if end_month < 1 or end_month > 12:\n",
    "                print(f\"ValueError: end_month({end_month:d}) is wrong.\")\n",
    "                return\n",
    "            if end_day < 1 or end_day > 31:\n",
    "                print(f\"ValueError: end_day({end_day:d}) is wrong.\")\n",
    "                return\n",
    "            end_date = f\"{end_year:04d}-{end_month:02d}-{end_day:02d}\"\n",
    "         \n",
    "        codes_keys = list(self.codes.keys())\n",
    "        codes_values = list(self.codes.values())\n",
    "\n",
    "        if code in codes_keys:\n",
    "            pass\n",
    "        elif code in codes_values:\n",
    "            idx = codes_values.index(code)\n",
    "            code = codes_keys[idx]\n",
    "        else:\n",
    "            print(f\"ValueError: Code({code}) doesn't exist.\")\n",
    "        sql = f\"SELECT * FROM daily_price WHERE code = '{code}'\"\\\n",
    "            f\" and date >= '{start_date}' and date <= '{end_date}'\"\n",
    "        df = pd.read_sql(sql, self.conn)\n",
    "        df.index = df['date']\n",
    "        return df \n"
   ]
  },
  {
   "cell_type": "code",
   "execution_count": 14,
   "metadata": {},
   "outputs": [
    {
     "name": "stdout",
     "output_type": "stream",
     "text": [
      "Collecting mpl-finance\n",
      "  Downloading mpl_finance-0.10.1-py3-none-any.whl (8.4 kB)\n",
      "Requirement already satisfied: matplotlib in c:\\users\\becky\\anaconda3\\lib\\site-packages (from mpl-finance) (3.2.2)\n",
      "Requirement already satisfied: kiwisolver>=1.0.1 in c:\\users\\becky\\anaconda3\\lib\\site-packages (from matplotlib->mpl-finance) (1.2.0)\n",
      "Requirement already satisfied: pyparsing!=2.0.4,!=2.1.2,!=2.1.6,>=2.0.1 in c:\\users\\becky\\anaconda3\\lib\\site-packages (from matplotlib->mpl-finance) (2.4.7)\n",
      "Requirement already satisfied: python-dateutil>=2.1 in c:\\users\\becky\\anaconda3\\lib\\site-packages (from matplotlib->mpl-finance) (2.8.1)\n",
      "Requirement already satisfied: numpy>=1.11 in c:\\users\\becky\\anaconda3\\lib\\site-packages (from matplotlib->mpl-finance) (1.19.5)\n",
      "Requirement already satisfied: cycler>=0.10 in c:\\users\\becky\\anaconda3\\lib\\site-packages (from matplotlib->mpl-finance) (0.10.0)\n",
      "Requirement already satisfied: six in c:\\users\\becky\\anaconda3\\lib\\site-packages (from cycler>=0.10->matplotlib->mpl-finance) (1.15.0)\n",
      "Installing collected packages: mpl-finance\n",
      "Successfully installed mpl-finance-0.10.1\n"
     ]
    }
   ],
   "source": [
    "!pip install mpl-finance"
   ]
  },
  {
   "cell_type": "code",
   "execution_count": 10,
   "metadata": {},
   "outputs": [
    {
     "ename": "OperationalError",
     "evalue": "(1045, \"Access denied for user 'root'@'localhost' (using password: YES)\")",
     "output_type": "error",
     "traceback": [
      "\u001b[1;31m---------------------------------------------------------------------------\u001b[0m",
      "\u001b[1;31mOperationalError\u001b[0m                          Traceback (most recent call last)",
      "\u001b[1;32m<ipython-input-10-802ef6bfd5bd>\u001b[0m in \u001b[0;36m<module>\u001b[1;34m\u001b[0m\n\u001b[0;32m      7\u001b[0m \u001b[1;32mfrom\u001b[0m \u001b[0mInvestar\u001b[0m \u001b[1;32mimport\u001b[0m \u001b[0mAnalyzer\u001b[0m\u001b[1;33m\u001b[0m\u001b[1;33m\u001b[0m\u001b[0m\n\u001b[0;32m      8\u001b[0m \u001b[1;33m\u001b[0m\u001b[0m\n\u001b[1;32m----> 9\u001b[1;33m \u001b[0mmk\u001b[0m \u001b[1;33m=\u001b[0m \u001b[0mAnalyzer\u001b[0m\u001b[1;33m.\u001b[0m\u001b[0mMarketDB\u001b[0m\u001b[1;33m(\u001b[0m\u001b[1;33m)\u001b[0m\u001b[1;33m\u001b[0m\u001b[1;33m\u001b[0m\u001b[0m\n\u001b[0m\u001b[0;32m     10\u001b[0m \u001b[0mdf\u001b[0m \u001b[1;33m=\u001b[0m \u001b[0mmk\u001b[0m\u001b[1;33m.\u001b[0m\u001b[0mget_daily_price\u001b[0m\u001b[1;33m(\u001b[0m\u001b[1;34m'엔씨소프트'\u001b[0m\u001b[1;33m,\u001b[0m \u001b[1;34m'2017-01-01'\u001b[0m\u001b[1;33m)\u001b[0m\u001b[1;33m\u001b[0m\u001b[1;33m\u001b[0m\u001b[0m\n\u001b[0;32m     11\u001b[0m \u001b[1;33m\u001b[0m\u001b[0m\n",
      "\u001b[1;32m~\\Desktop\\금융 AI\\Investar\\Analyzer.py\u001b[0m in \u001b[0;36m__init__\u001b[1;34m(self)\u001b[0m\n\u001b[0;32m     14\u001b[0m \u001b[1;33m\u001b[0m\u001b[0m\n\u001b[0;32m     15\u001b[0m     \u001b[1;32mdef\u001b[0m \u001b[0m__del__\u001b[0m\u001b[1;33m(\u001b[0m\u001b[0mself\u001b[0m\u001b[1;33m)\u001b[0m\u001b[1;33m:\u001b[0m\u001b[1;33m\u001b[0m\u001b[1;33m\u001b[0m\u001b[0m\n\u001b[1;32m---> 16\u001b[1;33m         \u001b[1;34m\"\"\"소멸자: MariaDB 연결 해제\"\"\"\u001b[0m\u001b[1;33m\u001b[0m\u001b[1;33m\u001b[0m\u001b[0m\n\u001b[0m\u001b[0;32m     17\u001b[0m         \u001b[0mself\u001b[0m\u001b[1;33m.\u001b[0m\u001b[0mconn\u001b[0m\u001b[1;33m.\u001b[0m\u001b[0mclose\u001b[0m\u001b[1;33m(\u001b[0m\u001b[1;33m)\u001b[0m\u001b[1;33m\u001b[0m\u001b[1;33m\u001b[0m\u001b[0m\n\u001b[0;32m     18\u001b[0m \u001b[1;33m\u001b[0m\u001b[0m\n",
      "\u001b[1;32m~\\anaconda3\\lib\\site-packages\\pymysql\\connections.py\u001b[0m in \u001b[0;36m__init__\u001b[1;34m(self, user, password, host, database, unix_socket, port, charset, sql_mode, read_default_file, conv, use_unicode, client_flag, cursorclass, init_command, connect_timeout, read_default_group, autocommit, local_infile, max_allowed_packet, defer_connect, auth_plugin_map, read_timeout, write_timeout, bind_address, binary_prefix, program_name, server_public_key, ssl, ssl_ca, ssl_cert, ssl_disabled, ssl_key, ssl_verify_cert, ssl_verify_identity, compress, named_pipe, passwd, db)\u001b[0m\n\u001b[0;32m    351\u001b[0m             \u001b[0mself\u001b[0m\u001b[1;33m.\u001b[0m\u001b[0m_sock\u001b[0m \u001b[1;33m=\u001b[0m \u001b[1;32mNone\u001b[0m\u001b[1;33m\u001b[0m\u001b[1;33m\u001b[0m\u001b[0m\n\u001b[0;32m    352\u001b[0m         \u001b[1;32melse\u001b[0m\u001b[1;33m:\u001b[0m\u001b[1;33m\u001b[0m\u001b[1;33m\u001b[0m\u001b[0m\n\u001b[1;32m--> 353\u001b[1;33m             \u001b[0mself\u001b[0m\u001b[1;33m.\u001b[0m\u001b[0mconnect\u001b[0m\u001b[1;33m(\u001b[0m\u001b[1;33m)\u001b[0m\u001b[1;33m\u001b[0m\u001b[1;33m\u001b[0m\u001b[0m\n\u001b[0m\u001b[0;32m    354\u001b[0m \u001b[1;33m\u001b[0m\u001b[0m\n\u001b[0;32m    355\u001b[0m     \u001b[1;32mdef\u001b[0m \u001b[0m__enter__\u001b[0m\u001b[1;33m(\u001b[0m\u001b[0mself\u001b[0m\u001b[1;33m)\u001b[0m\u001b[1;33m:\u001b[0m\u001b[1;33m\u001b[0m\u001b[1;33m\u001b[0m\u001b[0m\n",
      "\u001b[1;32m~\\anaconda3\\lib\\site-packages\\pymysql\\connections.py\u001b[0m in \u001b[0;36mconnect\u001b[1;34m(self, sock)\u001b[0m\n\u001b[0;32m    631\u001b[0m \u001b[1;33m\u001b[0m\u001b[0m\n\u001b[0;32m    632\u001b[0m             \u001b[0mself\u001b[0m\u001b[1;33m.\u001b[0m\u001b[0m_get_server_information\u001b[0m\u001b[1;33m(\u001b[0m\u001b[1;33m)\u001b[0m\u001b[1;33m\u001b[0m\u001b[1;33m\u001b[0m\u001b[0m\n\u001b[1;32m--> 633\u001b[1;33m             \u001b[0mself\u001b[0m\u001b[1;33m.\u001b[0m\u001b[0m_request_authentication\u001b[0m\u001b[1;33m(\u001b[0m\u001b[1;33m)\u001b[0m\u001b[1;33m\u001b[0m\u001b[1;33m\u001b[0m\u001b[0m\n\u001b[0m\u001b[0;32m    634\u001b[0m \u001b[1;33m\u001b[0m\u001b[0m\n\u001b[0;32m    635\u001b[0m             \u001b[1;32mif\u001b[0m \u001b[0mself\u001b[0m\u001b[1;33m.\u001b[0m\u001b[0msql_mode\u001b[0m \u001b[1;32mis\u001b[0m \u001b[1;32mnot\u001b[0m \u001b[1;32mNone\u001b[0m\u001b[1;33m:\u001b[0m\u001b[1;33m\u001b[0m\u001b[1;33m\u001b[0m\u001b[0m\n",
      "\u001b[1;32m~\\anaconda3\\lib\\site-packages\\pymysql\\connections.py\u001b[0m in \u001b[0;36m_request_authentication\u001b[1;34m(self)\u001b[0m\n\u001b[0;32m    905\u001b[0m \u001b[1;33m\u001b[0m\u001b[0m\n\u001b[0;32m    906\u001b[0m         \u001b[0mself\u001b[0m\u001b[1;33m.\u001b[0m\u001b[0mwrite_packet\u001b[0m\u001b[1;33m(\u001b[0m\u001b[0mdata\u001b[0m\u001b[1;33m)\u001b[0m\u001b[1;33m\u001b[0m\u001b[1;33m\u001b[0m\u001b[0m\n\u001b[1;32m--> 907\u001b[1;33m         \u001b[0mauth_packet\u001b[0m \u001b[1;33m=\u001b[0m \u001b[0mself\u001b[0m\u001b[1;33m.\u001b[0m\u001b[0m_read_packet\u001b[0m\u001b[1;33m(\u001b[0m\u001b[1;33m)\u001b[0m\u001b[1;33m\u001b[0m\u001b[1;33m\u001b[0m\u001b[0m\n\u001b[0m\u001b[0;32m    908\u001b[0m \u001b[1;33m\u001b[0m\u001b[0m\n\u001b[0;32m    909\u001b[0m         \u001b[1;31m# if authentication method isn't accepted the first byte\u001b[0m\u001b[1;33m\u001b[0m\u001b[1;33m\u001b[0m\u001b[1;33m\u001b[0m\u001b[0m\n",
      "\u001b[1;32m~\\anaconda3\\lib\\site-packages\\pymysql\\connections.py\u001b[0m in \u001b[0;36m_read_packet\u001b[1;34m(self, packet_type)\u001b[0m\n\u001b[0;32m    723\u001b[0m             \u001b[1;32mif\u001b[0m \u001b[0mself\u001b[0m\u001b[1;33m.\u001b[0m\u001b[0m_result\u001b[0m \u001b[1;32mis\u001b[0m \u001b[1;32mnot\u001b[0m \u001b[1;32mNone\u001b[0m \u001b[1;32mand\u001b[0m \u001b[0mself\u001b[0m\u001b[1;33m.\u001b[0m\u001b[0m_result\u001b[0m\u001b[1;33m.\u001b[0m\u001b[0munbuffered_active\u001b[0m \u001b[1;32mis\u001b[0m \u001b[1;32mTrue\u001b[0m\u001b[1;33m:\u001b[0m\u001b[1;33m\u001b[0m\u001b[1;33m\u001b[0m\u001b[0m\n\u001b[0;32m    724\u001b[0m                 \u001b[0mself\u001b[0m\u001b[1;33m.\u001b[0m\u001b[0m_result\u001b[0m\u001b[1;33m.\u001b[0m\u001b[0munbuffered_active\u001b[0m \u001b[1;33m=\u001b[0m \u001b[1;32mFalse\u001b[0m\u001b[1;33m\u001b[0m\u001b[1;33m\u001b[0m\u001b[0m\n\u001b[1;32m--> 725\u001b[1;33m             \u001b[0mpacket\u001b[0m\u001b[1;33m.\u001b[0m\u001b[0mraise_for_error\u001b[0m\u001b[1;33m(\u001b[0m\u001b[1;33m)\u001b[0m\u001b[1;33m\u001b[0m\u001b[1;33m\u001b[0m\u001b[0m\n\u001b[0m\u001b[0;32m    726\u001b[0m         \u001b[1;32mreturn\u001b[0m \u001b[0mpacket\u001b[0m\u001b[1;33m\u001b[0m\u001b[1;33m\u001b[0m\u001b[0m\n\u001b[0;32m    727\u001b[0m \u001b[1;33m\u001b[0m\u001b[0m\n",
      "\u001b[1;32m~\\anaconda3\\lib\\site-packages\\pymysql\\protocol.py\u001b[0m in \u001b[0;36mraise_for_error\u001b[1;34m(self)\u001b[0m\n\u001b[0;32m    219\u001b[0m         \u001b[1;32mif\u001b[0m \u001b[0mDEBUG\u001b[0m\u001b[1;33m:\u001b[0m\u001b[1;33m\u001b[0m\u001b[1;33m\u001b[0m\u001b[0m\n\u001b[0;32m    220\u001b[0m             \u001b[0mprint\u001b[0m\u001b[1;33m(\u001b[0m\u001b[1;34m\"errno =\"\u001b[0m\u001b[1;33m,\u001b[0m \u001b[0merrno\u001b[0m\u001b[1;33m)\u001b[0m\u001b[1;33m\u001b[0m\u001b[1;33m\u001b[0m\u001b[0m\n\u001b[1;32m--> 221\u001b[1;33m         \u001b[0merr\u001b[0m\u001b[1;33m.\u001b[0m\u001b[0mraise_mysql_exception\u001b[0m\u001b[1;33m(\u001b[0m\u001b[0mself\u001b[0m\u001b[1;33m.\u001b[0m\u001b[0m_data\u001b[0m\u001b[1;33m)\u001b[0m\u001b[1;33m\u001b[0m\u001b[1;33m\u001b[0m\u001b[0m\n\u001b[0m\u001b[0;32m    222\u001b[0m \u001b[1;33m\u001b[0m\u001b[0m\n\u001b[0;32m    223\u001b[0m     \u001b[1;32mdef\u001b[0m \u001b[0mdump\u001b[0m\u001b[1;33m(\u001b[0m\u001b[0mself\u001b[0m\u001b[1;33m)\u001b[0m\u001b[1;33m:\u001b[0m\u001b[1;33m\u001b[0m\u001b[1;33m\u001b[0m\u001b[0m\n",
      "\u001b[1;32m~\\anaconda3\\lib\\site-packages\\pymysql\\err.py\u001b[0m in \u001b[0;36mraise_mysql_exception\u001b[1;34m(data)\u001b[0m\n\u001b[0;32m    141\u001b[0m     \u001b[1;32mif\u001b[0m \u001b[0merrorclass\u001b[0m \u001b[1;32mis\u001b[0m \u001b[1;32mNone\u001b[0m\u001b[1;33m:\u001b[0m\u001b[1;33m\u001b[0m\u001b[1;33m\u001b[0m\u001b[0m\n\u001b[0;32m    142\u001b[0m         \u001b[0merrorclass\u001b[0m \u001b[1;33m=\u001b[0m \u001b[0mInternalError\u001b[0m \u001b[1;32mif\u001b[0m \u001b[0merrno\u001b[0m \u001b[1;33m<\u001b[0m \u001b[1;36m1000\u001b[0m \u001b[1;32melse\u001b[0m \u001b[0mOperationalError\u001b[0m\u001b[1;33m\u001b[0m\u001b[1;33m\u001b[0m\u001b[0m\n\u001b[1;32m--> 143\u001b[1;33m     \u001b[1;32mraise\u001b[0m \u001b[0merrorclass\u001b[0m\u001b[1;33m(\u001b[0m\u001b[0merrno\u001b[0m\u001b[1;33m,\u001b[0m \u001b[0merrval\u001b[0m\u001b[1;33m)\u001b[0m\u001b[1;33m\u001b[0m\u001b[1;33m\u001b[0m\u001b[0m\n\u001b[0m",
      "\u001b[1;31mOperationalError\u001b[0m: (1045, \"Access denied for user 'root'@'localhost' (using password: YES)\")"
     ]
    }
   ],
   "source": [
    "import pandas as pd\n",
    "import matplotlib.pyplot as plt\n",
    "import datetime\n",
    "from mpl_finance import candlestick_ohlc\n",
    "from mplfinance.original_flavor import candlestick_ohlc\n",
    "import matplotlib.dates as mdates\n",
    "from Investar import Analyzer\n",
    "\n",
    "mk = Analyzer.MarketDB()\n",
    "df = mk.get_daily_price('엔씨소프트', '2017-01-01')\n",
    "\n",
    "\n",
    "ema60 = df.close.ewm(span=60).mean()   # ① 종가의 12주 지수 이동평균\n",
    "ema130 = df.close.ewm(span=130).mean() # ② 종가의 12주 지수 이동평균\n",
    "macd = ema60 - ema130                  # ③ MACD선\n",
    "signal = macd.ewm(span=45).mean()      # ④ 신호선(MACD의 9주 지수 이동평균)\n",
    "macdhist = macd - signal               # ⑤ MACD 히스토그램\n",
    "\n",
    "df = df.assign(ema130=ema130, ema60=ema60, macd=macd, signal=signal,\n",
    "    macdhist=macdhist).dropna() \n",
    "df['number'] = df.index.map(mdates.date2num)  # ⑥\n",
    "ohlc = df[['number','open','high','low','close']]\n",
    "\n",
    "plt.figure(figsize=(9, 7))\n",
    "p1 = plt.subplot(2, 1, 1)\n",
    "plt.title('Triple Screen Trading - First Screen (NCSOFT)')\n",
    "plt.grid(True)\n",
    "candlestick_ohlc(p1, ohlc.values, width=.6, colorup='red', \n",
    "    colordown='blue')  # ⑦\n",
    "p1.xaxis.set_major_formatter(mdates.DateFormatter('%Y-%m'))\n",
    "plt.plot(df.number, df['ema130'], color='c', label='EMA130')\n",
    "plt.legend(loc='best')\n",
    "\n",
    "p2 = plt.subplot(2, 1, 2)\n",
    "plt.grid(True)\n",
    "p2.xaxis.set_major_formatter(mdates.DateFormatter('%Y-%m'))\n",
    "plt.bar(df.number, df['macdhist'], color='m', label='MACD-Hist')\n",
    "plt.plot(df.number, df['macd'], color='b', label='MACD')\n",
    "plt.plot(df.number, df['signal'], 'g--', label='MACD-Signal')\n",
    "plt.legend(loc='best')\n",
    "plt.show()"
   ]
  },
  {
   "cell_type": "markdown",
   "metadata": {},
   "source": [
    "## 6.6.1 두 번째창 - 시장 조류"
   ]
  },
  {
   "cell_type": "code",
   "execution_count": null,
   "metadata": {},
   "outputs": [],
   "source": []
  },
  {
   "cell_type": "markdown",
   "metadata": {},
   "source": [
    "## 6.6.1 세 번째창 - 시장 조류"
   ]
  },
  {
   "cell_type": "code",
   "execution_count": null,
   "metadata": {},
   "outputs": [],
   "source": []
  }
 ],
 "metadata": {
  "kernelspec": {
   "display_name": "Python 3",
   "language": "python",
   "name": "python3"
  },
  "language_info": {
   "codemirror_mode": {
    "name": "ipython",
    "version": 3
   },
   "file_extension": ".py",
   "mimetype": "text/x-python",
   "name": "python",
   "nbconvert_exporter": "python",
   "pygments_lexer": "ipython3",
   "version": "3.8.3"
  },
  "toc": {
   "base_numbering": 1,
   "nav_menu": {},
   "number_sections": false,
   "sideBar": true,
   "skip_h1_title": false,
   "title_cell": "Table of Contents",
   "title_sidebar": "Contents",
   "toc_cell": false,
   "toc_position": {},
   "toc_section_display": true,
   "toc_window_display": false
  },
  "varInspector": {
   "cols": {
    "lenName": 16,
    "lenType": 16,
    "lenVar": 40
   },
   "kernels_config": {
    "python": {
     "delete_cmd_postfix": "",
     "delete_cmd_prefix": "del ",
     "library": "var_list.py",
     "varRefreshCmd": "print(var_dic_list())"
    },
    "r": {
     "delete_cmd_postfix": ") ",
     "delete_cmd_prefix": "rm(",
     "library": "var_list.r",
     "varRefreshCmd": "cat(var_dic_list()) "
    }
   },
   "types_to_exclude": [
    "module",
    "function",
    "builtin_function_or_method",
    "instance",
    "_Feature"
   ],
   "window_display": false
  }
 },
 "nbformat": 4,
 "nbformat_minor": 4
}
